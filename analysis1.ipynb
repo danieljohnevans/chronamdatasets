{
 "cells": [
  {
   "cell_type": "code",
   "execution_count": null,
   "id": "29ee2fa0",
   "metadata": {},
   "outputs": [],
   "source": [
    "# this notebook is designed to highlight possible thigns to do w text"
   ]
  },
  {
   "cell_type": "code",
   "execution_count": null,
   "id": "3737b4de",
   "metadata": {},
   "outputs": [],
   "source": [
    "import nltk\n",
    "import spacy\n",
    "import pandas as pd\n",
    "import numpy as np"
   ]
  },
  {
   "cell_type": "code",
   "execution_count": 2,
   "id": "56ab30ad",
   "metadata": {},
   "outputs": [],
   "source": [
    "# c oncordance (look up all instances of \"publisher\")"
   ]
  },
  {
   "cell_type": "code",
   "execution_count": null,
   "id": "fb4c0458",
   "metadata": {},
   "outputs": [],
   "source": [
    "# NER compare against metadata"
   ]
  },
  {
   "cell_type": "code",
   "execution_count": null,
   "id": "2d5c828a",
   "metadata": {},
   "outputs": [],
   "source": [
    "# all instances of af am newspapers"
   ]
  },
  {
   "cell_type": "code",
   "execution_count": null,
   "id": "5d037cf0",
   "metadata": {},
   "outputs": [],
   "source": []
  }
 ],
 "metadata": {
  "kernelspec": {
   "display_name": "Python 3 (ipykernel)",
   "language": "python",
   "name": "python3"
  },
  "language_info": {
   "codemirror_mode": {
    "name": "ipython",
    "version": 3
   },
   "file_extension": ".py",
   "mimetype": "text/x-python",
   "name": "python",
   "nbconvert_exporter": "python",
   "pygments_lexer": "ipython3",
   "version": "3.9.13"
  }
 },
 "nbformat": 4,
 "nbformat_minor": 5
}
