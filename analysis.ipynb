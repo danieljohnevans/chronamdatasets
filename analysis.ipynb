{
 "cells": [
  {
   "cell_type": "code",
   "execution_count": 159,
   "id": "51461054",
   "metadata": {},
   "outputs": [],
   "source": [
    "from bs4 import BeautifulSoup\n",
    "import csv\n",
    "import logging\n",
    "import pandas as pd\n",
    "import requests\n",
    "import time"
   ]
  },
  {
   "cell_type": "code",
   "execution_count": null,
   "id": "d29b3a8a",
   "metadata": {},
   "outputs": [],
   "source": []
  },
  {
   "cell_type": "code",
   "execution_count": null,
   "id": "a55c72c4",
   "metadata": {},
   "outputs": [],
   "source": []
  },
  {
   "cell_type": "code",
   "execution_count": null,
   "id": "9b942bf1",
   "metadata": {},
   "outputs": [],
   "source": []
  },
  {
   "cell_type": "code",
   "execution_count": null,
   "id": "3e9a00f1",
   "metadata": {},
   "outputs": [],
   "source": [
    "# strip out html tags\n",
    "\n",
    "# Function to remove tags\n",
    "def remove_tags(html):\n",
    "  \n",
    "    # parse html content\n",
    "    soup = BeautifulSoup(html, \"html.parser\")\n",
    "  \n",
    "    for data in soup(['style', 'script']):\n",
    "        # Remove tags\n",
    "        data.decompose()\n",
    "  \n",
    "    # return data by retrieving the tag content\n",
    "    return ' '.join(soup.stripped_strings)\n",
    "  \n",
    "# Print the extracted data\n",
    "# return remove_tags(raw))"
   ]
  },
  {
   "cell_type": "code",
   "execution_count": null,
   "id": "f9ab6d71",
   "metadata": {},
   "outputs": [],
   "source": [
    "for urlt in raw:\n",
    "    print(urlt)"
   ]
  },
  {
   "cell_type": "code",
   "execution_count": null,
   "id": "b55da105",
   "metadata": {},
   "outputs": [],
   "source": []
  },
  {
   "cell_type": "markdown",
   "id": "b53c9395",
   "metadata": {},
   "source": [
    "# todo:\n",
    "0. write this right.\n",
    "1. check for and delete csv if does exist\n",
    "2. (done) refactor / rate limit api calls.\n",
    "3. (done) write to list or pickle before writing to csv\n",
    "4. (done) test which sleep function is necessary\n",
    "5. document code\n",
    "6. NER / BERT\n",
    "7. Begin planning for fall / next steps\n",
    "8. Ingest / Clean xlsx\n",
    "9. binderhub\n",
    "10. send to M 9/2"
   ]
  },
  {
   "cell_type": "code",
   "execution_count": null,
   "id": "5b4ed9e1",
   "metadata": {},
   "outputs": [],
   "source": []
  }
 ],
 "metadata": {
  "kernelspec": {
   "display_name": "Python 3 (ipykernel)",
   "language": "python",
   "name": "python3"
  },
  "language_info": {
   "codemirror_mode": {
    "name": "ipython",
    "version": 3
   },
   "file_extension": ".py",
   "mimetype": "text/x-python",
   "name": "python",
   "nbconvert_exporter": "python",
   "pygments_lexer": "ipython3",
   "version": "3.9.13"
  },
  "vscode": {
   "interpreter": {
    "hash": "07522a9e7be91a40acf4b44b517c724e21d9190f4ff3d2c5c339e18616b8df85"
   }
  }
 },
 "nbformat": 4,
 "nbformat_minor": 5
}
