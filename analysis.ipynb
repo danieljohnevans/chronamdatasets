{
 "cells": [
  {
   "cell_type": "code",
   "execution_count": 1,
   "id": "51461054",
   "metadata": {},
   "outputs": [],
   "source": [
    "from bs4 import BeautifulSoup\n",
    "import requests\n"
   ]
  },
  {
   "cell_type": "code",
   "execution_count": 2,
   "id": "8b2f60e7",
   "metadata": {},
   "outputs": [],
   "source": [
    "url = \"https://www.loc.gov/item/sn85026945/?fo=json\""
   ]
  },
  {
   "cell_type": "code",
   "execution_count": 10,
   "id": "b2aa8a1f",
   "metadata": {},
   "outputs": [
    {
     "name": "stdout",
     "output_type": "stream",
     "text": [
      "<p>\n",
      "\tFor nearly a century, the <em>Abbeville Press and Banner</em> (1844-1925) reported on international, national, and local news for the citizens of Abbeville County, located in the upstate region of South Carolina. The <em>N.W. Ayer &amp; Son&#8217;s American Newspaper Annual</em> described Abbeville County simply as a &#8220;cotton growing district,&#8221; which while true on the surface is also slightly misleading. Although the cultivation of cotton had indeed dominated the county&#8217;s economy for most of the 19<sup>th</sup> century, in the 1890s Abbeville was undergoing a period of economic growth, starting with the arrival of the Georgia, Carolina, and Northern Railroad (later called the Seaboard Air Line) in 1892 and the founding of the Abbeville Cotton Mill Company in 1895. Other significant developments in the region included: the establishment of an African American school, called Ferguson Academy (later renamed Harbison Agricultural College), in 1868; the founding of Calhoun Falls at the junction of the Seaboard Air Line and Savannah Valley Railroad in the early 1890s; and the creation of Greenwood and McCormick Counties from portions of Abbeville County in 1899 and 1916.</p>\n",
      "<p>\n",
      "\tThe <em>Abbeville Press and Banner</em> began as two weekly newspapers, the <em>Abbeville Banner</em> and <em>Abbeville Press</em>. Charles Henry Allen and Henry S. Kerr had established the <em>Abbeville Banner</em> in 1844. Its competitor, the <em>Abbeville Independent Press </em>(later known as the <em>Abbeville Press</em>) began in 1853. Coleman C. Puckett and George W. Fant brought considerable experience to their jobs as publishers of the <em>Abbeville Independent Press</em>, Puckett having previously edited the <a href=\"/item/sn85026942/\"><em>Anderson Southern Rights</em> <em>Advocate</em></a> and Fant having apprenticed with the <a href=\"/item/sn85042528/\"><em>Anderson Gazette</em></a>. During the Civil War, the <em>Abbeville Banner</em> suspended publication. Hugh Wilson, Jr. and William Augustus Lee, the proprietors of the <em>Abbeville Press</em>, turned over publishing duties to a former business partner and enlisted in the Confederate States Army. Sadly, few issues of either newspaper have survived from the 1860s.</p>\n",
      "<p>\n",
      "\tAfter the war, Wilson and Lee bought the <em>Abbeville Banner</em> and merged it with the <em>Abbeville Press</em> to create the <em>Abbeville Press and Banner</em>. The first issue appeared on October 1, 1869. Like other white Democrat newspapers of the era, the <em>Press and Banner</em> steered a conservative course, celebrating the return of the &#8220;Bourbons,&#8221; or antebellum-era aristocrats, to political power in 1877 and championing the interests of agrarian elites. Throughout its existence, it faced only one true competitor, the <a href=\"/item/sn84026854/\"><em>Abbeville Medium</em></a>, which existed from 1871 through 1923. Circulation rates for the <em>Press and Banner</em> generally hovered between 800 and 1,200 subscriptions.</p>\n",
      "<p>\n",
      "\tSeveral of the men who ran these newspapers were leaders in their communities. George W. Fant, who was briefly involved with the <em>Independent Press</em>, served as postmaster and director of the National Bank of Anderson. Hugh Wilson, Jr., in addition to editing and publishing the <em>Press and Banner</em>, served as director of and stockholder in the Abbeville Cotton Mill and was also an officer in the South Carolina Press Association. Fellow proprietor William Augustus Lee practiced real estate law, represented the Abbeville District in the South Carolina Constitutional Convention of 1865, and served as a state representative in 1865-66.</p>\n",
      "<p>\n",
      "\tStarting in the 1920s, the <em>Abbeville Press and Banner</em> underwent a series of changes, from adopting a triweekly publication schedule to shortening its name to the <a href=\"/item/2013228796/\"><em>Press and Banner</em></a>. In 1925, the newspaper merged with the <a href=\"/item/sn93067666/\"><em>Abbeville Evening Medium</em></a> and became the <a href=\"/item/sn86063799/\"><em>Press and Banner and Abbeville Medium</em></a>. The paper continues to this day as a family-owned operation, having been edited and published by three generations of the family of its founder Fred Devereaux West, Sr.</p>\n"
     ]
    }
   ],
   "source": [
    "def parse_json(url):\n",
    "    response = requests.get(url)\n",
    "\n",
    "    json_data = response.json() if response and response.status_code == 200 else None\n",
    "    datum = []\n",
    "\n",
    "    if json_data and 'item' in json_data:\n",
    "        if 'essay' in json_data['item']:\n",
    "             for essay in json_data['item']['essay']:\n",
    "                essay = ''.join(essay)\n",
    "                datum.append(essay)\n",
    "\n",
    "\n",
    "    raw_data = ''.join(datum)\n",
    "\n",
    "print(raw_data)"
   ]
  },
  {
   "cell_type": "code",
   "execution_count": 11,
   "id": "3e9a00f1",
   "metadata": {},
   "outputs": [
    {
     "name": "stdout",
     "output_type": "stream",
     "text": [
      "For nearly a century, the Abbeville Press and Banner (1844-1925) reported on international, national, and local news for the citizens of Abbeville County, located in the upstate region of South Carolina. The N.W. Ayer & Son’s American Newspaper Annual described Abbeville County simply as a “cotton growing district,” which while true on the surface is also slightly misleading. Although the cultivation of cotton had indeed dominated the county’s economy for most of the 19 th century, in the 1890s Abbeville was undergoing a period of economic growth, starting with the arrival of the Georgia, Carolina, and Northern Railroad (later called the Seaboard Air Line) in 1892 and the founding of the Abbeville Cotton Mill Company in 1895. Other significant developments in the region included: the establishment of an African American school, called Ferguson Academy (later renamed Harbison Agricultural College), in 1868; the founding of Calhoun Falls at the junction of the Seaboard Air Line and Savannah Valley Railroad in the early 1890s; and the creation of Greenwood and McCormick Counties from portions of Abbeville County in 1899 and 1916. The Abbeville Press and Banner began as two weekly newspapers, the Abbeville Banner and Abbeville Press . Charles Henry Allen and Henry S. Kerr had established the Abbeville Banner in 1844. Its competitor, the Abbeville Independent Press (later known as the Abbeville Press ) began in 1853. Coleman C. Puckett and George W. Fant brought considerable experience to their jobs as publishers of the Abbeville Independent Press , Puckett having previously edited the Anderson Southern Rights Advocate and Fant having apprenticed with the Anderson Gazette . During the Civil War, the Abbeville Banner suspended publication. Hugh Wilson, Jr. and William Augustus Lee, the proprietors of the Abbeville Press , turned over publishing duties to a former business partner and enlisted in the Confederate States Army. Sadly, few issues of either newspaper have survived from the 1860s. After the war, Wilson and Lee bought the Abbeville Banner and merged it with the Abbeville Press to create the Abbeville Press and Banner . The first issue appeared on October 1, 1869. Like other white Democrat newspapers of the era, the Press and Banner steered a conservative course, celebrating the return of the “Bourbons,” or antebellum-era aristocrats, to political power in 1877 and championing the interests of agrarian elites. Throughout its existence, it faced only one true competitor, the Abbeville Medium , which existed from 1871 through 1923. Circulation rates for the Press and Banner generally hovered between 800 and 1,200 subscriptions. Several of the men who ran these newspapers were leaders in their communities. George W. Fant, who was briefly involved with the Independent Press , served as postmaster and director of the National Bank of Anderson. Hugh Wilson, Jr., in addition to editing and publishing the Press and Banner , served as director of and stockholder in the Abbeville Cotton Mill and was also an officer in the South Carolina Press Association. Fellow proprietor William Augustus Lee practiced real estate law, represented the Abbeville District in the South Carolina Constitutional Convention of 1865, and served as a state representative in 1865-66. Starting in the 1920s, the Abbeville Press and Banner underwent a series of changes, from adopting a triweekly publication schedule to shortening its name to the Press and Banner . In 1925, the newspaper merged with the Abbeville Evening Medium and became the Press and Banner and Abbeville Medium . The paper continues to this day as a family-owned operation, having been edited and published by three generations of the family of its founder Fred Devereaux West, Sr.\n"
     ]
    }
   ],
   "source": [
    "# strip out html tags\n",
    "\n",
    "# Function to remove tags\n",
    "def remove_tags(html):\n",
    "  \n",
    "    # parse html content\n",
    "    soup = BeautifulSoup(html, \"html.parser\")\n",
    "  \n",
    "    for data in soup(['style', 'script']):\n",
    "        # Remove tags\n",
    "        data.decompose()\n",
    "  \n",
    "    # return data by retrieving the tag content\n",
    "    return ' '.join(soup.stripped_strings)\n",
    "  \n",
    "# Print the extracted data\n",
    "print(remove_tags(raw_data))"
   ]
  },
  {
   "cell_type": "code",
   "execution_count": null,
   "id": "f9ab6d71",
   "metadata": {},
   "outputs": [],
   "source": []
  }
 ],
 "metadata": {
  "kernelspec": {
   "display_name": "Python 3 (ipykernel)",
   "language": "python",
   "name": "python3"
  },
  "language_info": {
   "codemirror_mode": {
    "name": "ipython",
    "version": 3
   },
   "file_extension": ".py",
   "mimetype": "text/x-python",
   "name": "python",
   "nbconvert_exporter": "python",
   "pygments_lexer": "ipython3",
   "version": "3.9.1"
  }
 },
 "nbformat": 4,
 "nbformat_minor": 5
}
