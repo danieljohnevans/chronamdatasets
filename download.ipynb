{
 "cells": [
  {
   "cell_type": "markdown",
   "id": "16e89bd0",
   "metadata": {},
   "source": [
    "The purpose of this Jupyter Notebook is produce a dataset from the Chronicling America Title Essays. It introduces readers to the concept of the Chronicling America API, the various facets that can queries, and the titles essays themselves. It is meant to act as a stand-in workshop that introduces a few programming elements while producing the neccessay to bulk download and package the Chronicling America title essays. If you would like to jump ahead and see the packaged title essays, included in this repository is a comma-separated value (CSV) written on DATE (08/29/2022). As such, unless further fields are desired beyond those queried in this code, feel free to use that CSV.\n",
    "\n",
    "To best understand this Jupyter Notebook, it should be read in conjunction with the following two Jupyter notebooks (link) and (link). While this notebook provides the reader with the ability to produce datasets, the following notebooks hope to contextualize these data by providing code-snippets for possible project starting points. \n",
    "\n",
    "As a whole, this notebook should be read as a hands-on tutorial for downloading data, selecting metadata fields, and writing that data to CSVs. Because the essay content that it queries is updated EVERY SO OFTEN, this code only needs to be run once every YEAR OR SO. \n",
    "\n",
    "NEXT A NOTE ABOUT THESE TITLE ESSAYS\n",
    "\n",
    "NEXT, a note about WHAT DOES THIS CODE TELL US ABOUT DATA AND ACCESSING DATA\n",
    "\n",
    "FINALLY, because this code is written for pedagogic purposes, it highly commented. Feel free to fork this code, or take elements for your project. IT IS OPEN SOURCE (GET RIGHTS ASSOCIATED WITH LC)\n",
    "\n",
    "\n",
    "---------"
   ]
  },
  {
   "cell_type": "markdown",
   "id": "6d44a5c2",
   "metadata": {},
   "source": [
    "## Part 1"
   ]
  },
  {
   "cell_type": "markdown",
   "id": "d6b7517d",
   "metadata": {},
   "source": [
    "-------"
   ]
  },
  {
   "cell_type": "markdown",
   "id": "bd4c8317",
   "metadata": {},
   "source": [
    "First, as with most Python notebooks, we will import the necessary Python libraries. \n",
    "\n",
    "Included below is a list of the libraries we are importing along with a link to further documentation.\n",
    "\n",
    "- [BeautifulSoup](https://www.crummy.com/software/BeautifulSoup/)\n",
    "- [csv](https://docs.python.org/3/library/csv.html)\n",
    "- [numpy](https://numpy.org/doc/stable/)\n",
    "- [pandas](https://pandas.pydata.org/docs/)\n",
    "- [random](https://docs.python.org/3/library/random.html)\n",
    "- [requests](https://requests.readthedocs.io/en/latest/)\n",
    "- [time](https://docs.python.org/3/library/time.html)\n",
    "\n",
    "Feel free to run the code below by clicking in the box and pressing the  Run button above."
   ]
  },
  {
   "cell_type": "code",
   "execution_count": 3,
   "id": "cdf87e0c",
   "metadata": {},
   "outputs": [],
   "source": [
    "# import necessary libraries.\n",
    "\n",
    "from bs4 import BeautifulSoup\n",
    "import csv\n",
    "import numpy as np\n",
    "import pandas as pd\n",
    "import random\n",
    "import requests\n",
    "import time"
   ]
  },
  {
   "cell_type": "code",
   "execution_count": 10,
   "id": "65186cca",
   "metadata": {},
   "outputs": [],
   "source": [
    "# total_url = \"https://www.loc.gov/collections/directory-of-us-newspapers-in-american-libraries/?all=True&c=50\"\n",
    "# loc_url = \"https://www.loc.gov/collections/directory-of-us-newspapers-in-american-libraries/?all=true&c=50&fa=partof_collection:chronicling+america&sp=1\"\n",
    "# chron_am_url = \"https://chroniclingamerica.loc.gov/newspapers/\""
   ]
  },
  {
   "cell_type": "markdown",
   "id": "05f4868b",
   "metadata": {},
   "source": [
    "Let's first get an idea of the newspapers available in Chronicling America. \n",
    "\n",
    "In order to do this, we'll go to the Library of Congress's website for the [Directory of US Newspapers and filter by Chroncling America](https://www.loc.gov/collections/directory-of-us-newspapers-in-american-libraries/?all=true&c=50&fa=partof_collection:chronicling+america&sp=1). As of 8/28/2022, this search returns 3683 full text newspapers.\n",
    "\n",
    "We'll use these URLs and the LCCNs from these URLS to construct our dataset.\n",
    "\n",
    "However, first we need to \"crawl\" this website to save these urls. Web crawling is a form of data mining that anticipates programatically \"crawling\" across webpages. Others have written more comprehensive guides and and tools do [exist](https://programminghistorian.org/en/lessons/fetch-and-parse-data-with-openrefine). \n",
    "\n",
    "The following two blocks of code generates a list of urls. Like most Jupyter notebooks, this code is broken down into manageable sections that can be run independently of each other. \n",
    "1. The first block of code creates a list of pages from the Directory of US Newspapers that contain Chronicling America urls.\n",
    "2. The second block, iterates through those pages with Chronicling America urls and saves those urls to a new list. Our code pauses for two seconds, or \"sleeps,\" in between each page so as not to overload the Library of Congress's servers. The end result is a list of 3683 urls. "
   ]
  },
  {
   "cell_type": "code",
   "execution_count": 11,
   "id": "221bc070",
   "metadata": {},
   "outputs": [],
   "source": [
    "total_url = 'https://www.loc.gov/collections/directory-of-us-newspapers-in-american-libraries/?all=true&c=1000&fa=partof_collection:chronicling+america&sp={}'\n",
    "\n",
    "pages = list(map(lambda x: total_url.format(x), \n",
    "                 range(1, 5)))\n",
    "# len(pages)"
   ]
  },
  {
   "cell_type": "code",
   "execution_count": 12,
   "id": "c12f4cc3",
   "metadata": {},
   "outputs": [],
   "source": [
    "# use beautiful soup to grab urls for lccns\n",
    "links = []\n",
    "for page in pages:\n",
    "    response = requests.get(page)\n",
    "    time.sleep(2)\n",
    "    soup = BeautifulSoup(response.text, \"html.parser\")\n",
    "    for title in soup.find_all(\"span\", \"item-description-title\"):\n",
    "        link = title.find(\"a\")[\"href\"]\n",
    "        #print(link)\n",
    "        links.append(link)"
   ]
  },
  {
   "cell_type": "markdown",
   "id": "014dab94",
   "metadata": {},
   "source": [
    "Let's print out the first 10 links to make sure everything worked correctly:"
   ]
  },
  {
   "cell_type": "code",
   "execution_count": 13,
   "id": "54c3e860",
   "metadata": {},
   "outputs": [
    {
     "data": {
      "text/plain": [
       "['https://www.loc.gov/item/sn85026945/',\n",
       " 'https://www.loc.gov/item/sn93067670/',\n",
       " 'https://www.loc.gov/item/sn93067668/',\n",
       " 'https://www.loc.gov/item/sn84026853/',\n",
       " 'https://www.loc.gov/item/sn85042527/',\n",
       " 'https://www.loc.gov/item/sn88064057/',\n",
       " 'https://www.loc.gov/item/sn83045004/',\n",
       " 'https://www.loc.gov/item/sn83045003/',\n",
       " 'https://www.loc.gov/item/sn98069055/',\n",
       " 'https://www.loc.gov/item/sn83016734/']"
      ]
     },
     "execution_count": 13,
     "metadata": {},
     "output_type": "execute_result"
    }
   ],
   "source": [
    "links[:10]"
   ]
  },
  {
   "cell_type": "markdown",
   "id": "d99a3941",
   "metadata": {},
   "source": [
    "And that those links out to a single column csv for analysis and storage."
   ]
  },
  {
   "cell_type": "code",
   "execution_count": 19,
   "id": "d3b45720",
   "metadata": {},
   "outputs": [],
   "source": [
    "header = [\"lccn\"]\n",
    "with open(\"lc_output.csv\", \"w\") as f:\n",
    "    write = csv.writer(f) \n",
    "    write.writerow(header) \n",
    "    for link in links:\n",
    "        write.writerow([link])"
   ]
  },
  {
   "cell_type": "markdown",
   "id": "386884d0",
   "metadata": {},
   "source": [
    "------------"
   ]
  },
  {
   "cell_type": "markdown",
   "id": "7ab616c2",
   "metadata": {},
   "source": [
    "## Part 2"
   ]
  },
  {
   "cell_type": "markdown",
   "id": "174f57cb",
   "metadata": {},
   "source": [
    "---------"
   ]
  },
  {
   "cell_type": "code",
   "execution_count": null,
   "id": "efb3a118",
   "metadata": {},
   "outputs": [],
   "source": [
    "## might be able ot stick w concurrent futures. need to test"
   ]
  },
  {
   "cell_type": "code",
   "execution_count": 4,
   "id": "d98ccb72",
   "metadata": {},
   "outputs": [],
   "source": [
    "import concurrent.futures"
   ]
  },
  {
   "cell_type": "code",
   "execution_count": 5,
   "id": "c8c9fc1f",
   "metadata": {},
   "outputs": [
    {
     "data": {
      "text/html": [
       "<div>\n",
       "<style scoped>\n",
       "    .dataframe tbody tr th:only-of-type {\n",
       "        vertical-align: middle;\n",
       "    }\n",
       "\n",
       "    .dataframe tbody tr th {\n",
       "        vertical-align: top;\n",
       "    }\n",
       "\n",
       "    .dataframe thead th {\n",
       "        text-align: right;\n",
       "    }\n",
       "</style>\n",
       "<table border=\"1\" class=\"dataframe\">\n",
       "  <thead>\n",
       "    <tr style=\"text-align: right;\">\n",
       "      <th></th>\n",
       "      <th>lccn</th>\n",
       "    </tr>\n",
       "  </thead>\n",
       "  <tbody>\n",
       "    <tr>\n",
       "      <th>0</th>\n",
       "      <td>https://www.loc.gov/item/sn85026945/</td>\n",
       "    </tr>\n",
       "    <tr>\n",
       "      <th>1</th>\n",
       "      <td>https://www.loc.gov/item/sn93067670/</td>\n",
       "    </tr>\n",
       "    <tr>\n",
       "      <th>2</th>\n",
       "      <td>https://www.loc.gov/item/sn93067668/</td>\n",
       "    </tr>\n",
       "    <tr>\n",
       "      <th>3</th>\n",
       "      <td>https://www.loc.gov/item/sn84026853/</td>\n",
       "    </tr>\n",
       "    <tr>\n",
       "      <th>4</th>\n",
       "      <td>https://www.loc.gov/item/sn85042527/</td>\n",
       "    </tr>\n",
       "    <tr>\n",
       "      <th>5</th>\n",
       "      <td>https://www.loc.gov/item/sn88064057/</td>\n",
       "    </tr>\n",
       "    <tr>\n",
       "      <th>6</th>\n",
       "      <td>https://www.loc.gov/item/sn83045004/</td>\n",
       "    </tr>\n",
       "    <tr>\n",
       "      <th>7</th>\n",
       "      <td>https://www.loc.gov/item/sn83045003/</td>\n",
       "    </tr>\n",
       "    <tr>\n",
       "      <th>8</th>\n",
       "      <td>https://www.loc.gov/item/sn98069055/</td>\n",
       "    </tr>\n",
       "    <tr>\n",
       "      <th>9</th>\n",
       "      <td>https://www.loc.gov/item/sn83016734/</td>\n",
       "    </tr>\n",
       "  </tbody>\n",
       "</table>\n",
       "</div>"
      ],
      "text/plain": [
       "                                   lccn\n",
       "0  https://www.loc.gov/item/sn85026945/\n",
       "1  https://www.loc.gov/item/sn93067670/\n",
       "2  https://www.loc.gov/item/sn93067668/\n",
       "3  https://www.loc.gov/item/sn84026853/\n",
       "4  https://www.loc.gov/item/sn85042527/\n",
       "5  https://www.loc.gov/item/sn88064057/\n",
       "6  https://www.loc.gov/item/sn83045004/\n",
       "7  https://www.loc.gov/item/sn83045003/\n",
       "8  https://www.loc.gov/item/sn98069055/\n",
       "9  https://www.loc.gov/item/sn83016734/"
      ]
     },
     "execution_count": 5,
     "metadata": {},
     "output_type": "execute_result"
    }
   ],
   "source": [
    "df = pd.read_csv(\"lc_output.csv\")  \n",
    "    \n",
    "df.head(10) "
   ]
  },
  {
   "cell_type": "code",
   "execution_count": 6,
   "id": "d367c4d9",
   "metadata": {},
   "outputs": [
    {
     "data": {
      "text/plain": [
       "0    https://www.loc.gov/item/sn85026945/\n",
       "1    https://www.loc.gov/item/sn93067670/\n",
       "2    https://www.loc.gov/item/sn93067668/\n",
       "3    https://www.loc.gov/item/sn84026853/\n",
       "4    https://www.loc.gov/item/sn85042527/\n",
       "Name: lccn, dtype: object"
      ]
     },
     "execution_count": 6,
     "metadata": {},
     "output_type": "execute_result"
    }
   ],
   "source": [
    "lccns = df.lccn\n",
    "lccns.head()"
   ]
  },
  {
   "cell_type": "code",
   "execution_count": 8,
   "id": "656cd300",
   "metadata": {},
   "outputs": [],
   "source": [
    "urls = []\n",
    "\n",
    "for lccn in lccns:\n",
    "#     print(f\"{lccn}?fo=json\")\n",
    "    urls.append(f\"{lccn}?fo=json\")"
   ]
  },
  {
   "cell_type": "code",
   "execution_count": 9,
   "id": "6ab42a74",
   "metadata": {},
   "outputs": [
    {
     "data": {
      "text/plain": [
       "3681"
      ]
     },
     "execution_count": 9,
     "metadata": {},
     "output_type": "execute_result"
    }
   ],
   "source": [
    "len(urls)"
   ]
  },
  {
   "cell_type": "code",
   "execution_count": 11,
   "id": "10c7306f",
   "metadata": {},
   "outputs": [
    {
     "data": {
      "text/plain": [
       "['Mozilla/5.0 (Linux; U; Android 4.0.3; ko-kr; LG-L160L Build/IML74K) AppleWebkit/534.30 (KHTML, like Gecko) Version/4.0 Mobile Safari/534.30',\n",
       " 'Mozilla/5.0 (Linux; U; Android 4.0.3; de-ch; HTC Sensation Build/IML74K) AppleWebKit/534.30 (KHTML, like Gecko) Version/4.0 Mobile Safari/534.30']"
      ]
     },
     "execution_count": 11,
     "metadata": {},
     "output_type": "execute_result"
    }
   ],
   "source": [
    "# think this can be simplified too, might not be necessary if ues concurrant.futures\n",
    "with open('user_agents.txt', 'r') as f:\n",
    "    user_agents_list = [x.strip() for x in f.readlines()]\n",
    "\n",
    "user_agents_list[:2]"
   ]
  },
  {
   "cell_type": "code",
   "execution_count": 12,
   "id": "1fe2974e",
   "metadata": {},
   "outputs": [
    {
     "data": {
      "text/plain": [
       "19"
      ]
     },
     "execution_count": 12,
     "metadata": {},
     "output_type": "execute_result"
    }
   ],
   "source": [
    "# grab a random user agent\n",
    "\n",
    "val = random.randint(0, len(user_agents_list)-1)\n",
    "# headers = {'User-agent' : user_agents_list[val]}\n",
    "val"
   ]
  },
  {
   "cell_type": "code",
   "execution_count": 13,
   "id": "0ac12f46",
   "metadata": {},
   "outputs": [],
   "source": [
    "# generates random headers to avoid timeouts\n",
    "def rando_headers():\n",
    "    val = random.randint(0, len(user_agents_list)-1)\n",
    "    headers = {'User-agent' : user_agents_list[val]}\n",
    "#     print(headers)"
   ]
  },
  {
   "cell_type": "code",
   "execution_count": 21,
   "id": "31ac370c",
   "metadata": {},
   "outputs": [],
   "source": [
    "def parse_json(url):\n",
    "    datum = {}\n",
    "    response = requests.get(url, headers=rando_headers(), timeout=15)\n",
    "    \n",
    "    json_data = response.json() if response and response.status_code == 200 else None\n",
    "    \n",
    "    if json_data and 'item' in json_data:\n",
    "        \n",
    "        datum['created_published'] = json_data.get('item').get('created_published', 'none')\n",
    "        datum['date'] = json_data.get('item').get('date', 'none')\n",
    "        datum['dates_of_publication'] = json_data.get('item').get('dates_of_publication', 'none')\n",
    "        datum['description'] = json_data.get('item').get('description', 'none')\n",
    "        datum['essay'] = json_data.get('item').get('essay', 'none')\n",
    "        datum['essay_contributor'] = json_data.get('item').get('essay_contributor', 'none')\n",
    "        datum['language'] = json_data.get('item').get('language', 'none')\n",
    "        datum['latlong'] = json_data.get('item').get('latlong', 'none')\n",
    "        datum['location'] = json_data.get('item').get('location', 'none')\n",
    "        datum['raw_lccn'] = json_data.get('item').get('raw_lccn', 'none')\n",
    "        datum['subjects'] = json_data.get('item').get('item').get('subjects', 'none')\n",
    "        datum['title'] = json_data.get('item').get('item').get('title', 'none')\n",
    "        datum['url'] = json_data.get('item').get('url', 'none')\n",
    "        \n",
    "    time.sleep(0.8)\n",
    "    \n",
    "    return datum"
   ]
  },
  {
   "cell_type": "markdown",
   "id": "b93eaee2",
   "metadata": {},
   "source": [
    "### Main Loop"
   ]
  },
  {
   "cell_type": "code",
   "execution_count": 23,
   "id": "2c474f36",
   "metadata": {},
   "outputs": [
    {
     "name": "stdout",
     "output_type": "stream",
     "text": [
      "CPU times: user 158 ms, sys: 17.9 ms, total: 176 ms\n",
      "Wall time: 8.6 s\n"
     ]
    }
   ],
   "source": [
    "%%time\n",
    "\n",
    "datas = []\n",
    "\n",
    "for url in urls[:5]:\n",
    "    try:\n",
    "        datas.append(parse_json(url))\n",
    "    except Exception as e:\n",
    "        print(e)\n",
    "        \n",
    "        with open('errors.txt', 'a') as f:\n",
    "            f.write(f'\\n{url}')\n",
    "        continue\n",
    "    time.sleep(0.7)"
   ]
  },
  {
   "cell_type": "code",
   "execution_count": 26,
   "id": "1dcb45b3",
   "metadata": {},
   "outputs": [
    {
     "data": {
      "text/plain": [
       "5"
      ]
     },
     "execution_count": 26,
     "metadata": {},
     "output_type": "execute_result"
    }
   ],
   "source": [
    "#printing datas finds our data\n",
    "#datas\n",
    "len(datas)"
   ]
  },
  {
   "cell_type": "code",
   "execution_count": 27,
   "id": "83374393",
   "metadata": {},
   "outputs": [],
   "source": [
    "with open(\"raw.csv\", \"w\") as f:\n",
    "        field_names = ['created_published', 'date', 'dates_of_publication', 'description', 'essay', 'essay_contributor',\n",
    "                          'language', 'latlong', 'location', 'raw_lccn', 'subjects', 'title', 'url']\n",
    "        writer = csv.DictWriter(f, field_names)\n",
    "        writer.writerow({x: x for x in field_names})\n",
    "        for row in datas:\n",
    "            writer.writerow(row)"
   ]
  },
  {
   "cell_type": "code",
   "execution_count": 28,
   "id": "6784e4f8",
   "metadata": {},
   "outputs": [
    {
     "data": {
      "text/html": [
       "<div>\n",
       "<style scoped>\n",
       "    .dataframe tbody tr th:only-of-type {\n",
       "        vertical-align: middle;\n",
       "    }\n",
       "\n",
       "    .dataframe tbody tr th {\n",
       "        vertical-align: top;\n",
       "    }\n",
       "\n",
       "    .dataframe thead th {\n",
       "        text-align: right;\n",
       "    }\n",
       "</style>\n",
       "<table border=\"1\" class=\"dataframe\">\n",
       "  <thead>\n",
       "    <tr style=\"text-align: right;\">\n",
       "      <th></th>\n",
       "      <th>created_published</th>\n",
       "      <th>date</th>\n",
       "      <th>dates_of_publication</th>\n",
       "      <th>description</th>\n",
       "      <th>essay</th>\n",
       "      <th>essay_contributor</th>\n",
       "      <th>language</th>\n",
       "      <th>latlong</th>\n",
       "      <th>location</th>\n",
       "      <th>raw_lccn</th>\n",
       "      <th>subjects</th>\n",
       "      <th>title</th>\n",
       "      <th>url</th>\n",
       "    </tr>\n",
       "  </thead>\n",
       "  <tbody>\n",
       "    <tr>\n",
       "      <th>0</th>\n",
       "      <td>['Abbeville, S.C. : Charles H. Allen, 1847-186...</td>\n",
       "      <td>1847</td>\n",
       "      <td>1847-1869</td>\n",
       "      <td>['Weekly Vol. 4, no. 1 (Mar. 3, 1847)-v. 25, n...</td>\n",
       "      <td>&lt;p&gt;\\n\\tFor nearly a century, the &lt;em&gt;Abbeville...</td>\n",
       "      <td>['University of South Carolina; Columbia, SC']</td>\n",
       "      <td>['english']</td>\n",
       "      <td>[34.17895, -82.38025]</td>\n",
       "      <td>['united states', 'south carolina', 'abbeville...</td>\n",
       "      <td>sn 85026945</td>\n",
       "      <td>['Abbeville (S.C.)--Newspapers', 'Abbeville Co...</td>\n",
       "      <td>The Abbeville banner.</td>\n",
       "      <td>https://www.loc.gov/item/sn85026945/</td>\n",
       "    </tr>\n",
       "    <tr>\n",
       "      <th>1</th>\n",
       "      <td>['Abbeville, S.C. : Hugh Wilson']</td>\n",
       "      <td>1865</td>\n",
       "      <td>1865-1865</td>\n",
       "      <td>['Weekly Began in July 1865. Ceased with Aug. ...</td>\n",
       "      <td>&lt;p&gt;\\n\\tThe short-lived weekly &lt;em&gt;Abbeville Bu...</td>\n",
       "      <td>['University of South Carolina; Columbia, SC']</td>\n",
       "      <td>['english']</td>\n",
       "      <td>[34.17895, -82.38025]</td>\n",
       "      <td>['united states', 'abbeville county', 'abbevil...</td>\n",
       "      <td>sn 93067670</td>\n",
       "      <td>['Abbeville County (S.C.)--Newspapers', 'South...</td>\n",
       "      <td>The Abbeville bulletin.</td>\n",
       "      <td>https://www.loc.gov/item/sn93067670/</td>\n",
       "    </tr>\n",
       "    <tr>\n",
       "      <th>2</th>\n",
       "      <td>['Abbeville, S.C. : Bonham and Perrin']</td>\n",
       "      <td>1884</td>\n",
       "      <td>1884-1887</td>\n",
       "      <td>['Weekly Began Oct. 1, 1884; ceased in 1887. C...</td>\n",
       "      <td>&lt;p&gt;\\n\\tThe &lt;em&gt;Abbeville Messenger&lt;/em&gt; (1884-...</td>\n",
       "      <td>['University of South Carolina; Columbia, SC']</td>\n",
       "      <td>['english']</td>\n",
       "      <td>[34.17895, -82.38025]</td>\n",
       "      <td>['united states', 'abbeville county', 'abbevil...</td>\n",
       "      <td>sn 93067668</td>\n",
       "      <td>['Abbeville County (S.C.)--Newspapers', 'South...</td>\n",
       "      <td>The Abbeville messenger.</td>\n",
       "      <td>https://www.loc.gov/item/sn93067668/</td>\n",
       "    </tr>\n",
       "    <tr>\n",
       "      <th>3</th>\n",
       "      <td>['Abbeville, S.C. : W.A. Lee &amp; Hugh Wilson, 18...</td>\n",
       "      <td>1869</td>\n",
       "      <td>1869-1924</td>\n",
       "      <td>['Triweekly, Jan. 7, 1920-Feb. 13, 1924 Began ...</td>\n",
       "      <td>&lt;p&gt;\\n\\tFor nearly a century, the &lt;em&gt;Abbeville...</td>\n",
       "      <td>['University of South Carolina; Columbia, SC']</td>\n",
       "      <td>['english']</td>\n",
       "      <td>[34.17895, -82.38025]</td>\n",
       "      <td>['united states', 'south carolina', 'abbeville...</td>\n",
       "      <td>sn 84026853</td>\n",
       "      <td>['Abbeville (S.C.)--Newspapers', 'Abbeville Co...</td>\n",
       "      <td>The Abbeville press and banner.</td>\n",
       "      <td>https://www.loc.gov/item/sn84026853/</td>\n",
       "    </tr>\n",
       "    <tr>\n",
       "      <th>4</th>\n",
       "      <td>['Abbeville, S.C. : W.A. Lee and Hugh Wilson, ...</td>\n",
       "      <td>1860</td>\n",
       "      <td>1860-1869</td>\n",
       "      <td>['Weekly Vol. 8, no. 28 (Nov. 9, 1860)-v. 17, ...</td>\n",
       "      <td>&lt;p&gt;\\n\\tFor nearly a century, the &lt;em&gt;Abbeville...</td>\n",
       "      <td>['University of South Carolina; Columbia, SC']</td>\n",
       "      <td>['english']</td>\n",
       "      <td>[34.17895, -82.38025]</td>\n",
       "      <td>['united states', 'south carolina', 'abbeville...</td>\n",
       "      <td>sn 85042527</td>\n",
       "      <td>['Abbeville (S.C.)--Newspapers', 'Abbeville Co...</td>\n",
       "      <td>Abbeville press.</td>\n",
       "      <td>https://www.loc.gov/item/sn85042527/</td>\n",
       "    </tr>\n",
       "  </tbody>\n",
       "</table>\n",
       "</div>"
      ],
      "text/plain": [
       "                                   created_published  date  \\\n",
       "0  ['Abbeville, S.C. : Charles H. Allen, 1847-186...  1847   \n",
       "1                  ['Abbeville, S.C. : Hugh Wilson']  1865   \n",
       "2            ['Abbeville, S.C. : Bonham and Perrin']  1884   \n",
       "3  ['Abbeville, S.C. : W.A. Lee & Hugh Wilson, 18...  1869   \n",
       "4  ['Abbeville, S.C. : W.A. Lee and Hugh Wilson, ...  1860   \n",
       "\n",
       "  dates_of_publication                                        description  \\\n",
       "0            1847-1869  ['Weekly Vol. 4, no. 1 (Mar. 3, 1847)-v. 25, n...   \n",
       "1            1865-1865  ['Weekly Began in July 1865. Ceased with Aug. ...   \n",
       "2            1884-1887  ['Weekly Began Oct. 1, 1884; ceased in 1887. C...   \n",
       "3            1869-1924  ['Triweekly, Jan. 7, 1920-Feb. 13, 1924 Began ...   \n",
       "4            1860-1869  ['Weekly Vol. 8, no. 28 (Nov. 9, 1860)-v. 17, ...   \n",
       "\n",
       "                                               essay  \\\n",
       "0  <p>\\n\\tFor nearly a century, the <em>Abbeville...   \n",
       "1  <p>\\n\\tThe short-lived weekly <em>Abbeville Bu...   \n",
       "2  <p>\\n\\tThe <em>Abbeville Messenger</em> (1884-...   \n",
       "3  <p>\\n\\tFor nearly a century, the <em>Abbeville...   \n",
       "4  <p>\\n\\tFor nearly a century, the <em>Abbeville...   \n",
       "\n",
       "                                essay_contributor     language  \\\n",
       "0  ['University of South Carolina; Columbia, SC']  ['english']   \n",
       "1  ['University of South Carolina; Columbia, SC']  ['english']   \n",
       "2  ['University of South Carolina; Columbia, SC']  ['english']   \n",
       "3  ['University of South Carolina; Columbia, SC']  ['english']   \n",
       "4  ['University of South Carolina; Columbia, SC']  ['english']   \n",
       "\n",
       "                 latlong                                           location  \\\n",
       "0  [34.17895, -82.38025]  ['united states', 'south carolina', 'abbeville...   \n",
       "1  [34.17895, -82.38025]  ['united states', 'abbeville county', 'abbevil...   \n",
       "2  [34.17895, -82.38025]  ['united states', 'abbeville county', 'abbevil...   \n",
       "3  [34.17895, -82.38025]  ['united states', 'south carolina', 'abbeville...   \n",
       "4  [34.17895, -82.38025]  ['united states', 'south carolina', 'abbeville...   \n",
       "\n",
       "       raw_lccn                                           subjects  \\\n",
       "0  sn 85026945   ['Abbeville (S.C.)--Newspapers', 'Abbeville Co...   \n",
       "1  sn 93067670   ['Abbeville County (S.C.)--Newspapers', 'South...   \n",
       "2  sn 93067668   ['Abbeville County (S.C.)--Newspapers', 'South...   \n",
       "3  sn 84026853   ['Abbeville (S.C.)--Newspapers', 'Abbeville Co...   \n",
       "4  sn 85042527   ['Abbeville (S.C.)--Newspapers', 'Abbeville Co...   \n",
       "\n",
       "                             title                                   url  \n",
       "0            The Abbeville banner.  https://www.loc.gov/item/sn85026945/  \n",
       "1          The Abbeville bulletin.  https://www.loc.gov/item/sn93067670/  \n",
       "2         The Abbeville messenger.  https://www.loc.gov/item/sn93067668/  \n",
       "3  The Abbeville press and banner.  https://www.loc.gov/item/sn84026853/  \n",
       "4                 Abbeville press.  https://www.loc.gov/item/sn85042527/  "
      ]
     },
     "execution_count": 28,
     "metadata": {},
     "output_type": "execute_result"
    }
   ],
   "source": [
    "raw = pd.read_csv(\"raw.csv\")  \n",
    "    \n",
    "raw"
   ]
  },
  {
   "cell_type": "code",
   "execution_count": null,
   "id": "be13e3a7",
   "metadata": {},
   "outputs": [],
   "source": [
    "# not necessary but saving in case I can salvage it\n",
    "\n",
    "# %%time\n",
    "\n",
    "# MAX_THREADS = 10\n",
    "# pause = 1\n",
    "\n",
    "# def download_urls(dl_urls):\n",
    "#     threads = min(MAX_THREADS, len(dl_urls))\n",
    "    \n",
    "#     with concurrent.futures.ThreadPoolExecutor(max_workers=threads) as executor:\n",
    "#         executor.map(parse_json, dl_urls)"
   ]
  },
  {
   "cell_type": "code",
   "execution_count": null,
   "id": "ae28bff8",
   "metadata": {},
   "outputs": [],
   "source": [
    "## Notes:\n",
    "## left only exists on lc but not chron am. appears a later addition? \n",
    "## right only appears only on chron am -- perhaps metadata tagging issues?\n",
    "## number discrepancies on chron am site -- appears to be hardcoded and not updated\n",
    "## also need to figure out filtering on lc site."
   ]
  }
 ],
 "metadata": {
  "kernelspec": {
   "display_name": "Python 3 (ipykernel)",
   "language": "python",
   "name": "python3"
  },
  "language_info": {
   "codemirror_mode": {
    "name": "ipython",
    "version": 3
   },
   "file_extension": ".py",
   "mimetype": "text/x-python",
   "name": "python",
   "nbconvert_exporter": "python",
   "pygments_lexer": "ipython3",
   "version": "3.9.13"
  }
 },
 "nbformat": 4,
 "nbformat_minor": 5
}
